{
 "cells": [
  {
   "cell_type": "markdown",
   "id": "objective-equipment",
   "metadata": {},
   "source": [
    "## SQLite и Pandas\n",
    "\n",
    "Сегодня мы поработаем над тем как извлекать данные из базы данных SQLite. Для начала импортируем нужные нам библиотечки."
   ]
  },
  {
   "cell_type": "code",
   "execution_count": 20,
   "id": "protective-clock",
   "metadata": {},
   "outputs": [],
   "source": [
    "import sqlite3\n",
    "import pandas as pd"
   ]
  },
  {
   "cell_type": "markdown",
   "id": "peaceful-notion",
   "metadata": {},
   "source": [
    "Напоминаю, что \"библиотека\" в питоне -- это просто .py-файлики, содержащие наборы функций и объектов, которые можно просто извлекать и использовать. \n",
    "\n",
    "Импортировав две библиотеки выше мы добавили их в нашу рабочую среду и теперь они готовы к использованию. \n",
    "\n",
    "Вы можете написать свои библиотеки для конкретных повторяющихся задач. Иногда это удобно. Иногда нет."
   ]
  },
  {
   "cell_type": "code",
   "execution_count": 21,
   "id": "latest-surgery",
   "metadata": {},
   "outputs": [],
   "source": [
    "# Создаем коннектор к файлу нашей базы данных. \n",
    "# Само собой, файлик Базы Данных должен лежать рядом с файлом блокнота (который вы сейчас читаете). \n",
    "con = sqlite3.connect('DBname-Copy1.db')"
   ]
  },
  {
   "cell_type": "code",
   "execution_count": 22,
   "id": "psychological-circuit",
   "metadata": {},
   "outputs": [],
   "source": [
    "# Не спрашивайте\n",
    "cur = con.cursor()"
   ]
  },
  {
   "cell_type": "code",
   "execution_count": 23,
   "id": "regular-nutrition",
   "metadata": {},
   "outputs": [
    {
     "data": {
      "text/plain": [
       "[('Маша', 5, '2020-01-01'),\n",
       " ('Петя', 4, '2020-01-01'),\n",
       " ('Вася', 3, '2020-01-01'),\n",
       " ('Саша', 4, '2020-01-01'),\n",
       " ('Маша', 4, '2020-01-02'),\n",
       " ('Петя', 4, '2020-01-02'),\n",
       " ('Вася', 4, '2020-01-02'),\n",
       " ('Саша', 5, '2020-01-02'),\n",
       " ('Маша', 5, '2020-01-03'),\n",
       " ('Петя', 3, '2020-01-03'),\n",
       " ('Вася', 2, '2020-01-03'),\n",
       " ('Саша', 5, '2020-01-03'),\n",
       " ('Маша', 3, '2020-01-04'),\n",
       " ('Петя', 3, '2020-01-04'),\n",
       " ('Вася', 3, '2020-01-04'),\n",
       " ('Саша', 3, '2020-01-04'),\n",
       " ('Максим', 2, '2020-01-04'),\n",
       " ('Маша', 5, '2020-01-05'),\n",
       " ('Петя', 3, '2020-01-05'),\n",
       " ('Вася', 3, '2020-01-05'),\n",
       " ('Саша', 3, '2020-01-05'),\n",
       " ('', '', ''),\n",
       " ('', '', ''),\n",
       " ('', '', ''),\n",
       " ('', '', ''),\n",
       " ('', '', ''),\n",
       " ('', '', ''),\n",
       " ('', '', ''),\n",
       " ('', '', ''),\n",
       " ('', '', ''),\n",
       " ('', '', ''),\n",
       " ('', '', ''),\n",
       " ('', '', ''),\n",
       " ('', '', ''),\n",
       " ('', '', ''),\n",
       " ('', '', ''),\n",
       " ('', '', ''),\n",
       " ('', '', ''),\n",
       " ('', '', ''),\n",
       " ('', '', ''),\n",
       " ('', '', ''),\n",
       " ('', '', '')]"
      ]
     },
     "execution_count": 23,
     "metadata": {},
     "output_type": "execute_result"
    }
   ],
   "source": [
    "# Таким образом исполняется запрос к Базе Данных. \n",
    "# Здесь Python передает предложение SELECT в СУБД (в данном случае это библиотечка sqlite3) и выполняет его, а возвращает набор данных из таблицы (результат работы SELECT)\n",
    "\n",
    "cur.execute('SELECT * FROM EmployeePoint').fetchall()"
   ]
  },
  {
   "cell_type": "code",
   "execution_count": 32,
   "id": "everyday-pipeline",
   "metadata": {},
   "outputs": [
    {
     "data": {
      "text/plain": [
       "[(6,)]"
      ]
     },
     "execution_count": 32,
     "metadata": {},
     "output_type": "execute_result"
    }
   ],
   "source": [
    "# Можно выполнять и более сложные селекты\n",
    "\n",
    "cur.execute(\"\"\"\n",
    "\n",
    "Select count (distinct Employee) from EmployeePoint\n",
    "\n",
    "\n",
    "\"\"\").fetchall()"
   ]
  },
  {
   "cell_type": "code",
   "execution_count": 29,
   "id": "02c012c8-9e11-4a97-bdfb-da1d2d0ff73c",
   "metadata": {},
   "outputs": [],
   "source": [
    "#Получилось 6, так как сверху случайно видим дополнительную 6 пустую строчку, так как нажала лишний раз в SQL при вводе данных"
   ]
  },
  {
   "cell_type": "code",
   "execution_count": 33,
   "id": "3abfaf2f-5262-4daf-b173-96d7bdbf87f9",
   "metadata": {},
   "outputs": [
    {
     "data": {
      "text/plain": [
       "[('Саша', 2), ('Маша', 3)]"
      ]
     },
     "execution_count": 33,
     "metadata": {},
     "output_type": "execute_result"
    }
   ],
   "source": [
    "cur.execute(\"\"\"\n",
    "\n",
    "Select Employee, count(*) from EmployeePoint\n",
    "where Point = 5\n",
    "group by Employee\n",
    "order by count(*)\n",
    "\n",
    "\"\"\").fetchall()"
   ]
  }
 ],
 "metadata": {
  "kernelspec": {
   "display_name": "Python 3",
   "language": "python",
   "name": "python3"
  },
  "language_info": {
   "codemirror_mode": {
    "name": "ipython",
    "version": 3
   },
   "file_extension": ".py",
   "mimetype": "text/x-python",
   "name": "python",
   "nbconvert_exporter": "python",
   "pygments_lexer": "ipython3",
   "version": "3.8.8"
  }
 },
 "nbformat": 4,
 "nbformat_minor": 5
}
